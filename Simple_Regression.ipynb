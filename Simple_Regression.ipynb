{
  "nbformat": 4,
  "nbformat_minor": 0,
  "metadata": {
    "colab": {
      "name": "Simple_Regression.ipynb",
      "provenance": [],
      "include_colab_link": true
    },
    "kernelspec": {
      "name": "python3",
      "display_name": "Python 3"
    }
  },
  "cells": [
    {
      "cell_type": "markdown",
      "metadata": {
        "id": "view-in-github",
        "colab_type": "text"
      },
      "source": [
        "<a href=\"https://colab.research.google.com/github/Strix9289/Introduction-of-Machine-Learning/blob/master/Simple_Regression.ipynb\" target=\"_parent\"><img src=\"https://colab.research.google.com/assets/colab-badge.svg\" alt=\"Open In Colab\"/></a>"
      ]
    },
    {
      "cell_type": "markdown",
      "metadata": {
        "id": "1q92wMWI3F3y",
        "colab_type": "text"
      },
      "source": [
        "# 線形回帰"
      ]
    },
    {
      "cell_type": "markdown",
      "metadata": {
        "id": "UHMKVk_z3IHT",
        "colab_type": "text"
      },
      "source": [
        "説明変数$x$、目的変数$y$、関数$f(x)=ax+b$としたときに、**最小二乗法**を用いて\n",
        "$$\\begin{eqnarray}\\sum^n_{i=1}(y_i-f(x_i))^2\\end{eqnarray}$$\n",
        "\n",
        "を最小にする係数$a,b$を求める。"
      ]
    },
    {
      "cell_type": "code",
      "metadata": {
        "id": "Kz3A9ir2UlQw",
        "colab_type": "code",
        "colab": {}
      },
      "source": [
        "import numpy as np\n",
        "import matplotlib.pyplot as plt\n",
        "%matplotlib inline"
      ],
      "execution_count": null,
      "outputs": []
    },
    {
      "cell_type": "markdown",
      "metadata": {
        "id": "Vf-F88q51AQu",
        "colab_type": "text"
      },
      "source": [
        "$\\left(\n",
        "\\begin{array}{r}\n",
        "y_1\\\\\n",
        "y_2\\\\\n",
        "\\vdots\\\\\n",
        "y_n\\\\\n",
        "\\end{array}\n",
        "\\right)\n",
        "$\n",
        "$\n",
        "=3\\times\\left(\\begin{array}{r}x_1\\\\x_2\\\\\\vdots\\\\x_n\\\\\\end{array}\\right)+5$"
      ]
    },
    {
      "cell_type": "code",
      "metadata": {
        "id": "TvpbWxMGUuo7",
        "colab_type": "code",
        "colab": {}
      },
      "source": [
        "x = np.random.rand(100,1)"
      ],
      "execution_count": null,
      "outputs": []
    },
    {
      "cell_type": "code",
      "metadata": {
        "id": "FR1JClG2U_ZE",
        "colab_type": "code",
        "colab": {}
      },
      "source": [
        "y = 3 * x +np.random.rand(100,1) + 5"
      ],
      "execution_count": null,
      "outputs": []
    },
    {
      "cell_type": "code",
      "metadata": {
        "id": "9Jbjm0VWVJBv",
        "colab_type": "code",
        "colab": {
          "base_uri": "https://localhost:8080/",
          "height": 265
        },
        "outputId": "ff6ab8b6-10d8-467b-9b49-30650633bd48"
      },
      "source": [
        "plt.scatter(x, y)\n",
        "plt.grid(True)"
      ],
      "execution_count": null,
      "outputs": [
        {
          "output_type": "display_data",
          "data": {
            "image/png": "[encoded data removed]",
            "text/plain": [
              "<Figure size 432x288 with 1 Axes>"
            ]
          },
          "metadata": {
            "tags": [],
            "needs_background": "light"
          }
        }
      ]
    },
    {
      "cell_type": "code",
      "metadata": {
        "id": "WVNgWnnm2sKU",
        "colab_type": "code",
        "colab": {
          "base_uri": "https://localhost:8080/",
          "height": 35
        },
        "outputId": "9aa96555-123f-455a-ec66-7e01f32406cc"
      },
      "source": [
        "x.shape, y.shape"
      ],
      "execution_count": null,
      "outputs": [
        {
          "output_type": "execute_result",
          "data": {
            "text/plain": [
              "((100, 1), (100, 1))"
            ]
          },
          "metadata": {
            "tags": []
          },
          "execution_count": 12
        }
      ]
    },
    {
      "cell_type": "markdown",
      "metadata": {
        "id": "_rIAtcaSZMh4",
        "colab_type": "text"
      },
      "source": [
        "LinearRegressionを用いて解析的に解く"
      ]
    },
    {
      "cell_type": "code",
      "metadata": {
        "id": "exzo78bpVORB",
        "colab_type": "code",
        "colab": {}
      },
      "source": [
        "from sklearn.linear_model import LinearRegression"
      ],
      "execution_count": null,
      "outputs": []
    },
    {
      "cell_type": "code",
      "metadata": {
        "id": "w6_3sIDlVZX9",
        "colab_type": "code",
        "colab": {}
      },
      "source": [
        "#LinearRegressionは解析的に式を変形して、解を求めている\n",
        "lin_reg = LinearRegression().fit(x, y)"
      ],
      "execution_count": null,
      "outputs": []
    },
    {
      "cell_type": "code",
      "metadata": {
        "id": "r9arEWnRVeml",
        "colab_type": "code",
        "colab": {
          "base_uri": "https://localhost:8080/",
          "height": 35
        },
        "outputId": "180e6e33-6b8a-4564-82aa-4eb19b85f631"
      },
      "source": [
        "#intercept_:切片、coef_:決定係数\n",
        "lin_reg.intercept_, lin_reg.coef_"
      ],
      "execution_count": null,
      "outputs": [
        {
          "output_type": "execute_result",
          "data": {
            "text/plain": [
              "(array([5.60207231]), array([[2.88533514]]))"
            ]
          },
          "metadata": {
            "tags": []
          },
          "execution_count": 14
        }
      ]
    },
    {
      "cell_type": "code",
      "metadata": {
        "id": "-L9qXbaWWA0X",
        "colab_type": "code",
        "colab": {
          "base_uri": "https://localhost:8080/",
          "height": 265
        },
        "outputId": "c9aa625b-5b36-4556-81a1-fe02e543f031"
      },
      "source": [
        "x_new = np.array([[0], [1]])\n",
        "plt.plot(x_new, lin_reg.intercept_ + lin_reg.coef_*x_new, \"red\")\n",
        "plt.scatter(x, y)\n",
        "plt.grid(True)"
      ],
      "execution_count": null,
      "outputs": [
        {
          "output_type": "display_data",
          "data": {
            "image/png": "[encoded data removed]",
            "text/plain": [
              "<Figure size 432x288 with 1 Axes>"
            ]
          },
          "metadata": {
            "tags": [],
            "needs_background": "light"
          }
        }
      ]
    },
    {
      "cell_type": "markdown",
      "metadata": {
        "id": "a3d-G5LVZVOY",
        "colab_type": "text"
      },
      "source": [
        "SGDRegressorを用いて数値的に解く"
      ]
    },
    {
      "cell_type": "code",
      "metadata": {
        "id": "rlcpPc2xXT3T",
        "colab_type": "code",
        "colab": {}
      },
      "source": [
        "from sklearn.linear_model import SGDRegressor"
      ],
      "execution_count": null,
      "outputs": []
    },
    {
      "cell_type": "code",
      "metadata": {
        "id": "3JxVQ9iNYBff",
        "colab_type": "code",
        "colab": {}
      },
      "source": [
        "sgd_reg = SGDRegressor(max_iter=100).fit(X, y.ravel())"
      ],
      "execution_count": null,
      "outputs": []
    },
    {
      "cell_type": "code",
      "metadata": {
        "id": "9dYsFQHoYHbx",
        "colab_type": "code",
        "colab": {
          "base_uri": "https://localhost:8080/",
          "height": 35
        },
        "outputId": "41b8b958-9298-4136-d4cc-62ccd42ef066"
      },
      "source": [
        "sgd_reg.intercept_, sgd_reg.coef_"
      ],
      "execution_count": null,
      "outputs": [
        {
          "output_type": "execute_result",
          "data": {
            "text/plain": [
              "(array([5.49697963]), array([2.96349986]))"
            ]
          },
          "metadata": {
            "tags": []
          },
          "execution_count": 18
        }
      ]
    },
    {
      "cell_type": "markdown",
      "metadata": {
        "id": "l7r4ns02ZEql",
        "colab_type": "text"
      },
      "source": [
        "学習率が低すぎる場合"
      ]
    },
    {
      "cell_type": "code",
      "metadata": {
        "id": "wX0ymJr6YKu4",
        "colab_type": "code",
        "colab": {
          "base_uri": "https://localhost:8080/",
          "height": 73
        },
        "outputId": "6405f3ab-46ea-42be-f182-8ccaecdaa1b6"
      },
      "source": [
        "sgd_reg_00001 = SGDRegressor(eta0=0.0001, max_iter=100).fit(X, y.ravel())"
      ],
      "execution_count": null,
      "outputs": [
        {
          "output_type": "stream",
          "text": [
            "/usr/local/lib/python3.6/dist-packages/sklearn/linear_model/_stochastic_gradient.py:1187: ConvergenceWarning: Maximum number of iteration reached before convergence. Consider increasing max_iter to improve the fit.\n",
            "  ConvergenceWarning)\n"
          ],
          "name": "stderr"
        }
      ]
    },
    {
      "cell_type": "code",
      "metadata": {
        "id": "Z1oFyWV1YaP9",
        "colab_type": "code",
        "colab": {
          "base_uri": "https://localhost:8080/",
          "height": 35
        },
        "outputId": "66e0de5d-1d19-4a9b-e44f-21543b52ebbd"
      },
      "source": [
        "sgd_reg_00001.intercept_, sgd_reg_00001.coef_"
      ],
      "execution_count": null,
      "outputs": [
        {
          "output_type": "execute_result",
          "data": {
            "text/plain": [
              "(array([0.85546888]), array([0.44904761]))"
            ]
          },
          "metadata": {
            "tags": []
          },
          "execution_count": 24
        }
      ]
    },
    {
      "cell_type": "code",
      "metadata": {
        "id": "EhM0FdLYYqbc",
        "colab_type": "code",
        "colab": {
          "base_uri": "https://localhost:8080/",
          "height": 283
        },
        "outputId": "690294fb-45eb-4602-ad11-d4771019aad5"
      },
      "source": [
        "plt.plot(X_new, sgd_reg_00001.intercept_ + sgd_reg_00001.coef_*X_new, \"red\")\n",
        "plt.scatter(X, y)"
      ],
      "execution_count": null,
      "outputs": [
        {
          "output_type": "execute_result",
          "data": {
            "text/plain": [
              "<matplotlib.collections.PathCollection at 0x7f90eda05198>"
            ]
          },
          "metadata": {
            "tags": []
          },
          "execution_count": 25
        },
        {
          "output_type": "display_data",
          "data": {
            "image/png": "[encoded data removed]",
            "text/plain": [
              "<Figure size 432x288 with 1 Axes>"
            ]
          },
          "metadata": {
            "tags": [],
            "needs_background": "light"
          }
        }
      ]
    },
    {
      "cell_type": "markdown",
      "metadata": {
        "id": "g_FwVmPFZa_Z",
        "colab_type": "text"
      },
      "source": [
        "学習率が高すぎる場合"
      ]
    },
    {
      "cell_type": "code",
      "metadata": {
        "id": "qnPOMZMeY9Xg",
        "colab_type": "code",
        "colab": {}
      },
      "source": [
        "sgd_reg_100 = SGDRegressor(eta0=100, max_iter=100).fit(X, y.ravel())"
      ],
      "execution_count": null,
      "outputs": []
    },
    {
      "cell_type": "code",
      "metadata": {
        "id": "JyakeicxZjGN",
        "colab_type": "code",
        "colab": {
          "base_uri": "https://localhost:8080/",
          "height": 35
        },
        "outputId": "549d92da-240d-4e4c-b371-a067cc4e59bc"
      },
      "source": [
        "sgd_reg_100.intercept_, sgd_reg_100.coef_"
      ],
      "execution_count": null,
      "outputs": [
        {
          "output_type": "execute_result",
          "data": {
            "text/plain": [
              "(array([-4.0144115e+12]), array([1.9366567e+12]))"
            ]
          },
          "metadata": {
            "tags": []
          },
          "execution_count": 27
        }
      ]
    },
    {
      "cell_type": "code",
      "metadata": {
        "id": "dlXaZogtZnWU",
        "colab_type": "code",
        "colab": {
          "base_uri": "https://localhost:8080/",
          "height": 294
        },
        "outputId": "d1fb10bd-ca55-46a9-e9a6-df104c774330"
      },
      "source": [
        "plt.plot(X_new, sgd_reg_100.intercept_ + sgd_reg_100.coef_*X_new, \"red\")\n",
        "plt.scatter(X, y)"
      ],
      "execution_count": null,
      "outputs": [
        {
          "output_type": "execute_result",
          "data": {
            "text/plain": [
              "<matplotlib.collections.PathCollection at 0x7f90ed9ee470>"
            ]
          },
          "metadata": {
            "tags": []
          },
          "execution_count": 28
        },
        {
          "output_type": "display_data",
          "data": {
            "image/png": "[encoded data removed]",
            "text/plain": [
              "<Figure size 432x288 with 1 Axes>"
            ]
          },
          "metadata": {
            "tags": [],
            "needs_background": "light"
          }
        }
      ]
    },
    {
      "cell_type": "code",
      "metadata": {
        "id": "4JqJox4LZtk3",
        "colab_type": "code",
        "colab": {}
      },
      "source": [
        ""
      ],
      "execution_count": null,
      "outputs": []
    }
  ]
}