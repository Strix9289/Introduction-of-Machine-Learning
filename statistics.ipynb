{
  "nbformat": 4,
  "nbformat_minor": 0,
  "metadata": {
    "colab": {
      "name": "statistics.ipynb",
      "provenance": [],
      "authorship_tag": "ABX9TyMyAsMlyMeqjALJLzMEIUrB",
      "include_colab_link": true
    },
    "kernelspec": {
      "name": "python3",
      "display_name": "Python 3"
    }
  },
  "cells": [
    {
      "cell_type": "markdown",
      "metadata": {
        "id": "view-in-github",
        "colab_type": "text"
      },
      "source": [
        "<a href=\"https://colab.research.google.com/github/Strix9289/Introduction-of-Machine-Learning/blob/master/statistics.ipynb\" target=\"_parent\"><img src=\"https://colab.research.google.com/assets/colab-badge.svg\" alt=\"Open In Colab\"/></a>"
      ]
    },
    {
      "cell_type": "markdown",
      "metadata": {
        "id": "YK7mVUziNRyw",
        "colab_type": "text"
      },
      "source": [
        "# 統計"
      ]
    },
    {
      "cell_type": "code",
      "metadata": {
        "id": "dgejoIONNnt1",
        "colab_type": "code",
        "colab": {}
      },
      "source": [
        "import numpy as np\n",
        "import scipy as sns\n",
        "import matplotlib.pyplot as plt\n",
        "import pandas as pd"
      ],
      "execution_count": 1,
      "outputs": []
    },
    {
      "cell_type": "markdown",
      "metadata": {
        "id": "vzqw_R7INgxk",
        "colab_type": "text"
      },
      "source": [
        "## ベルヌーイ分布"
      ]
    },
    {
      "cell_type": "markdown",
      "metadata": {
        "id": "QnFAmhGbN-2Y",
        "colab_type": "text"
      },
      "source": [
        "ベルヌーイ分布とは、「当たりが出る確率が$p$のくじを1回引いたときの当たり回数」に従う確率分布"
      ]
    },
    {
      "cell_type": "code",
      "metadata": {
        "id": "hv3ltr8T0Jv-",
        "colab_type": "code",
        "colab": {
          "base_uri": "https://localhost:8080/",
          "height": 36
        },
        "outputId": "8026b696-76fc-4480-a937-f9f5cd968e53"
      },
      "source": [
        "# 小数第3位まで表示\n",
        "%precision 3"
      ],
      "execution_count": null,
      "outputs": [
        {
          "output_type": "execute_result",
          "data": {
            "application/vnd.google.colaboratory.intrinsic+json": {
              "type": "string"
            },
            "text/plain": [
              "'%.3f'"
            ]
          },
          "metadata": {
            "tags": []
          },
          "execution_count": 1
        }
      ]
    },
    {
      "cell_type": "code",
      "metadata": {
        "id": "jIFFLvWr0OCj",
        "colab_type": "code",
        "colab": {
          "base_uri": "https://localhost:8080/",
          "height": 35
        },
        "outputId": "845000bf-b821-4856-db82-ddedeb6282a8"
      },
      "source": [
        "import numpy as np\n",
        "data = np.array([9,1,2,4,7,5,3])\n",
        "# 積み上げ\n",
        "print('Cum:', data.cumsum())"
      ],
      "execution_count": null,
      "outputs": [
        {
          "output_type": "stream",
          "text": [
            "Cum: [ 9 10 12 16 23 28 31]\n"
          ],
          "name": "stdout"
        }
      ]
    },
    {
      "cell_type": "code",
      "metadata": {
        "id": "T41kuPRe0XG5",
        "colab_type": "code",
        "colab": {}
      },
      "source": [
        "import numpy.random as random"
      ],
      "execution_count": null,
      "outputs": []
    },
    {
      "cell_type": "markdown",
      "metadata": {
        "id": "SMAxJww90vEg",
        "colab_type": "text"
      },
      "source": [
        "| 機能 | 意味 |\n",
        "|:---------|:-------|\n",
        "| `rand` | 一様分布。0.0以上、1.0未満 |\n",
        "| `random_sample` | 一様分布。0.0以上、1.0未満（`rand`とは引数の指定方法が異なる） |\n",
        "| `randint` | 一様分布。任意の範囲の整数 |\n",
        "| `randn` | 正規分布。平均0、標準偏差1の乱数 |\n",
        "| `normal` | 正規分布。任意の平均、標準偏差の乱数 |\n",
        "| `binomial` | 二項分布の乱数 |\n",
        "| `beta` | ベータ分布の乱数 |\n",
        "| `gamma` | ガンマ分布の乱数 |\n",
        "| `chisquare` | カイ二乗分布の乱数 |"
      ]
    },
    {
      "cell_type": "code",
      "metadata": {
        "id": "YhZanZ0a0wC1",
        "colab_type": "code",
        "colab": {
          "base_uri": "https://localhost:8080/",
          "height": 53
        },
        "outputId": "85bafb11-2c61-4c16-ddfe-ab050861fb16"
      },
      "source": [
        "\n",
        "# 抽出対象データ\n",
        "data = np.array([9,2,3,4,10,6,7,8,1,5])\n",
        "\n",
        "# ランダム抽出\n",
        "# 10個を抽出（重複あり、復元抽出）\n",
        "print(random.choice(data, 10))\n",
        "# 10個を抽出（重複なし、非復元抽出)\n",
        "print(random.choice(data, 10, replace = False)) "
      ],
      "execution_count": null,
      "outputs": [
        {
          "output_type": "stream",
          "text": [
            "[2 1 3 2 3 9 3 4 5 8]\n",
            "[ 7  1  9  5 10  4  6  3  8  2]\n"
          ],
          "name": "stdout"
        }
      ]
    },
    {
      "cell_type": "code",
      "metadata": {
        "id": "eFD-KLA108r1",
        "colab_type": "code",
        "colab": {}
      },
      "source": [
        "%timeit #処理"
      ],
      "execution_count": null,
      "outputs": []
    },
    {
      "cell_type": "code",
      "metadata": {
        "id": "kPF2wZpRNa-A",
        "colab_type": "code",
        "colab": {}
      },
      "source": [
        "# データの準備\n",
        "array1 = np.arange(9).reshape(3,3)\n",
        "print(array1)"
      ],
      "execution_count": null,
      "outputs": []
    },
    {
      "cell_type": "code",
      "metadata": {
        "id": "yvdt3fgJNWUt",
        "colab_type": "code",
        "colab": {}
      },
      "source": [
        "array2 = np.arange(9,18).reshape(3,3)\n",
        "print(array2)"
      ],
      "execution_count": null,
      "outputs": []
    },
    {
      "cell_type": "code",
      "metadata": {
        "id": "u6zG99Kp2Uy6",
        "colab_type": "code",
        "colab": {}
      },
      "source": [
        "# 行列の積\n",
        "np.dot(array1, array2)"
      ],
      "execution_count": null,
      "outputs": []
    },
    {
      "cell_type": "code",
      "metadata": {
        "id": "FB1wf-MNNmRu",
        "colab_type": "code",
        "colab": {
          "base_uri": "https://localhost:8080/",
          "height": 89
        },
        "outputId": "8b41f364-f0d3-4a9c-851a-0873aa31c47c"
      },
      "source": [
        "print(np.zeros((2, 3), dtype = np.int64))\n",
        "print(np.ones((2, 3), dtype = np.float64))"
      ],
      "execution_count": null,
      "outputs": [
        {
          "output_type": "stream",
          "text": [
            "[[0 0 0]\n",
            " [0 0 0]]\n",
            "[[1. 1. 1.]\n",
            " [1. 1. 1.]]\n"
          ],
          "name": "stdout"
        }
      ]
    },
    {
      "cell_type": "markdown",
      "metadata": {
        "id": "BHuMOerHsmhN",
        "colab_type": "text"
      },
      "source": [
        "統計学の使う知識\n",
        "\n",
        "|変数|説明|\n",
        "|:---|:---|\n",
        "|mean|平均|\n",
        "|median|中央値|\n",
        "|mode|最頻値|\n",
        "|var|分散|\n",
        "|std|標準偏差|\n",
        "|cov(x,y)|xとyの共分散|\n",
        "\n",
        "\n"
      ]
    },
    {
      "cell_type": "markdown",
      "metadata": {
        "id": "6e7LlIYKwATQ",
        "colab_type": "text"
      },
      "source": [
        "sp.stats.pearsonr(x1, x2) >>> r, p\n",
        "r: 相関係数\n",
        "p: p値\n"
      ]
    },
    {
      "cell_type": "code",
      "metadata": {
        "id": "rBHkXHSTNmHN",
        "colab_type": "code",
        "colab": {}
      },
      "source": [
        ""
      ],
      "execution_count": null,
      "outputs": []
    }
  ]
}